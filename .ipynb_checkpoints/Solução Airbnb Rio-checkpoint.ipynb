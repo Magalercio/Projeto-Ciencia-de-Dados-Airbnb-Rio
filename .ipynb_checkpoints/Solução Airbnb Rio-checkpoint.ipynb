{
 "cells": [
  {
   "cell_type": "markdown",
   "metadata": {},
   "source": [
    "# Projeto Airbnb Rio - Ferramenta de Previsão de Preço de Imóvel para pessoas comuns "
   ]
  },
  {
   "cell_type": "markdown",
   "metadata": {},
   "source": [
    "### Contexto\n",
    "\n",
    "No Airbnb, qualquer pessoa que tenha um quarto ou um imóvel de qualquer tipo (apartamento, casa, chalé, pousada, etc.) pode ofertar o seu imóvel para ser alugado por diária.\n",
    "\n",
    "Você cria o seu perfil de host (pessoa que disponibiliza um imóvel para aluguel por diária) e cria o anúncio do seu imóvel.\n",
    "\n",
    "Nesse anúncio, o host deve descrever as características do imóvel da forma mais completa possível, de forma a ajudar os locadores/viajantes a escolherem o melhor imóvel para eles (e de forma a tornar o seu anúncio mais atrativo)\n",
    "\n",
    "Existem dezenas de personalizações possíveis no seu anúncio, desde quantidade mínima de diária, preço, quantidade de quartos, até regras de cancelamento, taxa extra para hóspedes extras, exigência de verificação de identidade do locador, etc.\n",
    "\n",
    "### Nosso objetivo\n",
    "\n",
    "Construir um modelo de previsão de preço que permita uma pessoa comum que possui um imóvel possa saber quanto deve cobrar pela diária do seu imóvel.\n",
    "\n",
    "Ou ainda, para o locador comum, dado o imóvel que ele está buscando, ajudar a saber se aquele imóvel está com preço atrativo (abaixo da média para imóveis com as mesmas características) ou não.\n",
    "\n",
    "### O que temos disponível, inspirações e créditos\n",
    "\n",
    "As bases de dados foram retiradas do site kaggle: https://www.kaggle.com/allanbruno/airbnb-rio-de-janeiro\n",
    "\n",
    "Elas estão disponíveis para download abaixo da aula (se você puxar os dados direto do Kaggle pode ser que encontre resultados diferentes dos meus, afinal as bases de dados podem ter sido atualizadas).\n",
    "\n",
    "Caso queira uma outra solução, podemos olhar como referência a solução do usuário Allan Bruno do kaggle no Notebook: https://www.kaggle.com/allanbruno/helping-regular-people-price-listings-on-airbnb\n",
    "\n",
    "Você vai perceber semelhanças entre a solução que vamos desenvolver aqui e a dele, mas também algumas diferenças significativas no processo de construção do projeto.\n",
    "\n",
    "- As bases de dados são os preços dos imóveis obtidos e suas respectivas características em cada mês.\n",
    "- Os preços são dados em reais (R$)\n",
    "- Temos bases de abril de 2018 a maio de 2020, com exceção de junho de 2018 que não possui base de dados\n",
    "\n",
    "### Expectativas Iniciais\n",
    "\n",
    "- Acredito que a sazonalidade pode ser um fator importante, visto que meses como dezembro costumam ser bem caros no RJ\n",
    "- A localização do imóvel deve fazer muita diferença no preço, já que no Rio de Janeiro a localização pode mudar completamente as características do lugar (segurança, beleza natural, pontos turísticos)\n",
    "- Adicionais/Comodidades podem ter um impacto significativo, visto que temos muitos prédios e casas antigos no Rio de Janeiro\n",
    "\n",
    "Vamos descobrir o quanto esses fatores impactam e se temos outros fatores não tão intuitivos que são extremamente importantes."
   ]
  },
  {
   "cell_type": "markdown",
   "metadata": {},
   "source": [
    "### Como funciona um Projeto de Cencia de Dados?\n",
    "1. Entendimento do desafio que você quer resolver\n",
    "2. Entendimento da Empresa/Área\n",
    "3. Extração/Obtenção de Dados\n",
    "4. Ajustes de Dados(Limpeza de Dados)\n",
    "5. Análise Exploratória\n",
    "6. Modelagem +Algorítimos\n",
    "7. Interpretação de resultados\n",
    "8. Deploy/Produção"
   ]
  },
  {
   "cell_type": "markdown",
   "metadata": {},
   "source": [
    "### Importar Bibliotecas e Bases de Dados"
   ]
  },
  {
   "cell_type": "code",
   "execution_count": null,
   "metadata": {},
   "outputs": [],
   "source": [
    "import pandas as pd\n",
    "import pathlib\n",
    "import numpy as np\n",
    "import seaborn as sns\n",
    "import matplotlib.pyplot as plt"
   ]
  },
  {
   "cell_type": "code",
   "execution_count": null,
   "metadata": {},
   "outputs": [],
   "source": [
    "meses= {'jan':1,'fev':2, 'mar':3, 'abr':4, 'mai':5, 'jun':6, 'jul':7, 'ago':8, 'set':9, 'out':10, 'nov':11, 'dez':12}\n",
    "\n",
    "caminho_bases = pathlib.Path(r'C:\\Users\\magal\\OneDrive\\Área de Trabalho\\aula python\\Projeto 03 Ciência de Dados\\dataset')\n",
    "\n",
    "base_airbnb = pd.DataFrame()\n",
    "for arquivo in caminho_bases.iterdir():\n",
    "    nome_mes = arquivo.name [:3]\n",
    "    mes =meses[nome_mes]\n",
    "    ano = arquivo.name[-8:]\n",
    "    ano = int(ano.replace('.csv', ''))\n",
    "    df=pd.read_csv(caminho_bases/arquivo.name)\n",
    "    df['mes']= mes\n",
    "    df['ano']= ano\n",
    "    base_airbnb = base_airbnb.append(df)\n",
    "    \n",
    "display(base_airbnb)"
   ]
  },
  {
   "cell_type": "markdown",
   "metadata": {},
   "source": [
    "### Consolidar Base de Dados\n",
    "- Como temos muitas colunas, nosso modelo pode acabar ficando muito lento.\n",
    "- Uma análise rápida permite ver que várias colunas não são necessárias para o nosso modelo de previsão, por isso, vamos excluir algumas colunas de nossa base.\n",
    "- Tipos de colunas que vamos excluir:\n",
    "    1. IDs, links e informaçoes não relevantes para o modelo\n",
    "    2. Colunas repetidas ou extremamente parecidas com outra (que passam a mesma informaçao para o modelo) Ex. Data x mes/ano\n",
    "    3. Colunas preenchidas com texto livre (Não rodaremos nenhuma análise com palavras nesse modelo)\n",
    "    4. Colunas em que todos ou quase todos os valores são iguais\n",
    "- Para isso vamos criar um arquivo em excell com os 1000 primeiros registros, para fazer uma analise qualitativa "
   ]
  },
  {
   "cell_type": "code",
   "execution_count": null,
   "metadata": {},
   "outputs": [],
   "source": [
    "print(list(base_airbnb.columns))\n",
    "base_airbnb.head(1000).to_csv('primeiros_registros.csv', sep=\";\")"
   ]
  },
  {
   "cell_type": "code",
   "execution_count": null,
   "metadata": {},
   "outputs": [],
   "source": [
    "#celula auxiliar para análise de coluna\n",
    "print(base_airbnb['experiences_offered'].value_counts())"
   ]
  },
  {
   "cell_type": "code",
   "execution_count": null,
   "metadata": {},
   "outputs": [],
   "source": [
    "#celula auxiliar para análise de coluna\n",
    "print((base_airbnb['host_listings_count']==base_airbnb['host_total_listings_count']).value_counts())"
   ]
  },
  {
   "cell_type": "code",
   "execution_count": null,
   "metadata": {},
   "outputs": [],
   "source": [
    "#celula auxiliar para análise de coluna\n",
    "print(base_airbnb['square_feet'].isnull().sum())"
   ]
  },
  {
   "cell_type": "markdown",
   "metadata": {},
   "source": [
    "### Depois da análise qualitativa das colunas, levando em consideração os critérios acima, chegamos a uma base de dados mais limpa."
   ]
  },
  {
   "cell_type": "code",
   "execution_count": null,
   "metadata": {},
   "outputs": [],
   "source": [
    "colunas=['host_response_time','host_response_rate','host_is_superhost','host_listings_count','host_has_profile_pic','host_identity_verified','latitude','longitude','property_type','room_type','accommodates','bathrooms','bedrooms','beds','bed_type','amenities','price','security_deposit','cleaning_fee','guests_included','extra_people','minimum_nights','maximum_nights','number_of_reviews','review_scores_rating','review_scores_accuracy','review_scores_cleanliness','review_scores_checkin','review_scores_communication','review_scores_location','review_scores_value','instant_bookable','is_business_travel_ready','cancellation_policy','mes','ano']\n",
    "base_airbnb = base_airbnb.loc[:, colunas]\n",
    "display(base_airbnb)"
   ]
  },
  {
   "cell_type": "markdown",
   "metadata": {},
   "source": [
    "### Tratar Valores Faltando\n",
    "1. excluir todas as colunas que tenha mais de 300 mil valores em branco. Pois preenchelas poderia enviezar a análise.\n",
    "2. Para as outras colunas, como temos muitos dados(mais de 900 mil linhas) vamos excluir as linhas com dados em branco."
   ]
  },
  {
   "cell_type": "code",
   "execution_count": null,
   "metadata": {},
   "outputs": [],
   "source": [
    "print(base_airbnb.isnull().sum())"
   ]
  },
  {
   "cell_type": "code",
   "execution_count": null,
   "metadata": {},
   "outputs": [],
   "source": [
    "#removendo as colunas com muitos dados em branco:\n",
    "\n",
    "for coluna in base_airbnb:\n",
    "    if base_airbnb[coluna].isnull().sum() > 300000:\n",
    "        base_airbnb= base_airbnb.drop(coluna, axis=1)\n",
    "print(base_airbnb.isnull().sum())"
   ]
  },
  {
   "cell_type": "code",
   "execution_count": null,
   "metadata": {},
   "outputs": [],
   "source": [
    "print(base_airbnb.shape)"
   ]
  },
  {
   "cell_type": "code",
   "execution_count": null,
   "metadata": {},
   "outputs": [],
   "source": [
    "#removendo as linhas com dado em branco.\n",
    "base_airbnb= base_airbnb.dropna()\n",
    "print(base_airbnb.shape)\n",
    "print(base_airbnb.isnull().sum())"
   ]
  },
  {
   "cell_type": "markdown",
   "metadata": {},
   "source": [
    "### Verificar Tipos de Dados em cada coluna"
   ]
  },
  {
   "cell_type": "code",
   "execution_count": null,
   "metadata": {},
   "outputs": [],
   "source": [
    "print(base_airbnb.dtypes)\n",
    "print('-'*60)\n",
    "print(base_airbnb.iloc[0])"
   ]
  },
  {
   "cell_type": "markdown",
   "metadata": {},
   "source": [
    "#### como preço e extra_people estão sendo identificado como objeto, temos que mudar o tipo de variável da coluna para float."
   ]
  },
  {
   "cell_type": "code",
   "execution_count": null,
   "metadata": {},
   "outputs": [],
   "source": [
    "#price\n",
    "base_airbnb['price']= base_airbnb['price'].str.replace('$','').str.replace(',','').astype(np.float32, copy= False)\n",
    "#extra_people\n",
    "base_airbnb['extra_people']= base_airbnb['extra_people'].str.replace('$','').str.replace(',','').astype(np.float32, copy= False)\n",
    "\n"
   ]
  },
  {
   "cell_type": "code",
   "execution_count": null,
   "metadata": {},
   "outputs": [],
   "source": [
    "#mudando tipos ja corretos, para um que use menos memória. (float64 => float32 & int64 => int 32)\n",
    "\n",
    "\n",
    "base_airbnb['host_listings_count']= base_airbnb['host_listings_count'].astype(np.float32, copy= False)\n",
    "base_airbnb['latitude']= base_airbnb['latitude'].astype(np.float32, copy= False)\n",
    "base_airbnb['longitude']= base_airbnb['longitude'].astype(np.float32, copy= False)\n",
    "base_airbnb['bathrooms']= base_airbnb['bathrooms'].astype(np.float32, copy= False)\n",
    "base_airbnb['bedrooms']= base_airbnb['bedrooms'].astype(np.float32, copy= False)\n",
    "base_airbnb['beds']= base_airbnb['beds'].astype(np.float32, copy= False)\n",
    "\n",
    "base_airbnb['accommodates']= base_airbnb['accommodates'].astype(np.int32, copy= False)\n",
    "base_airbnb['guests_included']= base_airbnb['guests_included'].astype(np.int32, copy= False)\n",
    "base_airbnb['minimum_nights']= base_airbnb['minimum_nights'].astype(np.int32, copy= False)\n",
    "base_airbnb['maximum_nights']= base_airbnb['maximum_nights'].astype(np.int32, copy= False)\n",
    "base_airbnb['number_of_reviews']= base_airbnb['number_of_reviews'].astype(np.int32, copy= False)\n",
    "base_airbnb['mes']= base_airbnb['mes'].astype(np.int32, copy= False)\n",
    "base_airbnb['ano']= base_airbnb['ano'].astype(np.int32, copy= False)\n",
    "print(base_airbnb.dtypes)"
   ]
  },
  {
   "cell_type": "markdown",
   "metadata": {},
   "source": [
    "### Análise Exploratória e Tratar Outliers\n",
    "- Vamos basicamente olhar característica por característica para:\n",
    "    1. Ver a correlação entre as características e decidir se manteremos todas as características que temos.\n",
    "    2. Excluir Outliers (Usaremos como regra, valores abaixo de Q1 - 1.5 x Amplitude e valores acima de Q3 + 1.5 x Amplitude). Amplitude = Q3 - Q1\n",
    "    3. Confirmar se todas as características que temos fazem realmente sentido para nosso modelo ou se alguma delas não vai nos ajudar e se devemos excuir.\n",
    "- Vamos começar pelas colunas de preço (resultado final que queremos) e de extra_people (também valores monetários que afetam o preço). Esses são valores numéricos contínuos.\n",
    "- Depois vamos analisar as colunas de valores numéricos discretos (accomodance, bedrooms, quest_included, etc.)\n",
    "- Por fim, vamos avaliar as colunas de texto e definir quais categorias fazem sentido mantermos ou não.\n",
    "\n",
    "MAS CUIDADO: Não saia excluindo direto outliers, pense exatamente no que você esta fazendo. Se não tem um motivo claro para remover o outlier, talvez não seja necessário e pode ser prejudicial para a generalização. Então tem que ter uma balança aí. Claro que você sempre pode testar e ver qual dá o melhor resultado, mas fazer isso para todas as características vai dar muito trabalho.\n",
    "\n",
    "Ex. da análise: Se o objetivo é ajudar a precificar um imóvel que você está querendo disponibilizar, excluir outliers em host_listing_count pode fazer sentido. Agora se você é uma empresa com uma série de propriedades e quer comparar com outras empresas do tipo também e se posicionar dessa forma, talvez excluir quem tem acima de 6 propriedades tire isso do seu modelo. Pense sempre no seu objetivo final e tenha isso em claro em mente ao fazer uma análize exploratória."
   ]
  },
  {
   "cell_type": "code",
   "execution_count": null,
   "metadata": {},
   "outputs": [],
   "source": [
    "# Mapa de calor das correlações das colunas.\n",
    "\n",
    "plt.figure(figsize=(19,10))\n",
    "sns.heatmap(base_airbnb.corr(),annot=True,cmap='Greens')\n",
    "\n",
    "#print(base_airbnb.corr())\n",
    "#Concluímos que não tem nenhuma correlação extrema que de valores duplicados.\n",
    "#portanto não excluiremos nenhuma coluna com essa análize preliminar."
   ]
  },
  {
   "cell_type": "markdown",
   "metadata": {},
   "source": [
    "### Definição de funções para análise de outliers\n",
    "Vamos definir algumas funções para ajudar na análise de outliers das colunas\n"
   ]
  },
  {
   "cell_type": "code",
   "execution_count": null,
   "metadata": {},
   "outputs": [],
   "source": [
    "#função de limites de outliers\n",
    "def limites(coluna):\n",
    "    q1= coluna.quantile(0.25)\n",
    "    q3= coluna.quantile(0.75)\n",
    "    amplitude = q3-q1\n",
    "    return q1-1.5*amplitude, q3+1.5*amplitude\n",
    "\n",
    "def excluir_outliers (df, nome_coluna):\n",
    "    qte_linhas = df.shape[0]\n",
    "    lim_inf, lim_sup = limites(df[nome_coluna])\n",
    "    df = df.loc[(df[nome_coluna]>= lim_inf) & (df[nome_coluna]<=lim_sup) , : ]\n",
    "    linhas_removidas = qte_linhas - df.shape[0]\n",
    "    return df, linhas_removidas"
   ]
  },
  {
   "cell_type": "code",
   "execution_count": null,
   "metadata": {},
   "outputs": [],
   "source": [
    "#testando a funçao de limite de outliers\n",
    "print(limites(base_airbnb['price']))\n",
    "base_airbnb['price'].describe()"
   ]
  },
  {
   "cell_type": "code",
   "execution_count": null,
   "metadata": {},
   "outputs": [],
   "source": [
    "#formula do grafico de caixa dos limites dos outliers\n",
    "def diagrama_caixa (coluna):\n",
    "    fig, (ax1, ax2) = plt.subplots(1,2)\n",
    "    fig.set_size_inches(19, 5)\n",
    "    sns.boxplot(x= coluna, ax=ax1).set(xlabel= f'Coluna {coluna.name} com todos os dados.')\n",
    "    ax2.set_xlim(limites(coluna))\n",
    "    sns.boxplot(x= coluna, ax=ax2).set(xlabel= f'Limite Outlier da coluna {coluna.name}')\n",
    "    return\n",
    "\n",
    "def histograma(coluna):\n",
    "    plt.figure(figsize=(19,5))\n",
    "    sns.histplot (coluna, kde=True).set(xlabel= f'Histograma da coluna {coluna.name}')\n",
    "    return\n",
    "\n",
    "def grafico_barra(coluna):\n",
    "    plt.figure(figsize=(19,5))\n",
    "    sns.barplot(x= coluna.value_counts().index , y= coluna.value_counts()).set_xlim(limites(coluna))\n",
    "    return"
   ]
  },
  {
   "cell_type": "markdown",
   "metadata": {},
   "source": [
    "## Price"
   ]
  },
  {
   "cell_type": "code",
   "execution_count": null,
   "metadata": {},
   "outputs": [],
   "source": [
    "diagrama_caixa(base_airbnb['price'])\n",
    "histograma(base_airbnb['price'])"
   ]
  },
  {
   "cell_type": "markdown",
   "metadata": {},
   "source": [
    "Como estamos construindo um modelo para imoveis comuns,acredito que os valores acima do limite superior serão apenas de apartamentos de altíssimo luxo,que não é o nosso objetivo principal. Por isso, podemos excluir os outliers e analisar quantos dados serão excluidos para analisar se essa alteração será realmente permanente em nossa análise.  "
   ]
  },
  {
   "cell_type": "code",
   "execution_count": null,
   "metadata": {},
   "outputs": [],
   "source": [
    "base_airbnb, linhas_removidas = excluir_outliers(base_airbnb, 'price')\n",
    "print(f'{linhas_removidas} linhas removidas')"
   ]
  },
  {
   "cell_type": "code",
   "execution_count": null,
   "metadata": {},
   "outputs": [],
   "source": [
    "histograma(base_airbnb['price'])\n",
    "print(base_airbnb.shape)"
   ]
  },
  {
   "cell_type": "markdown",
   "metadata": {},
   "source": [
    "## Extra_people"
   ]
  },
  {
   "cell_type": "code",
   "execution_count": null,
   "metadata": {},
   "outputs": [],
   "source": [
    "diagrama_caixa(base_airbnb['extra_people'])\n",
    "histograma(base_airbnb['extra_people'])"
   ]
  },
  {
   "cell_type": "markdown",
   "metadata": {},
   "source": [
    "#### Por ora vamos excluir os outliers do extra_people. Mas iremos testar no final sem excluí-los.\n"
   ]
  },
  {
   "cell_type": "code",
   "execution_count": null,
   "metadata": {},
   "outputs": [],
   "source": [
    "base_airbnb, linhas_removidas = excluir_outliers(base_airbnb, 'extra_people')\n",
    "print(f'{linhas_removidas} linhas removidas')"
   ]
  },
  {
   "cell_type": "code",
   "execution_count": null,
   "metadata": {},
   "outputs": [],
   "source": [
    "histograma(base_airbnb['extra_people'])"
   ]
  },
  {
   "cell_type": "markdown",
   "metadata": {},
   "source": [
    "## Valores discretos\n"
   ]
  },
  {
   "cell_type": "markdown",
   "metadata": {},
   "source": [
    "### host_listings_count"
   ]
  },
  {
   "cell_type": "code",
   "execution_count": null,
   "metadata": {},
   "outputs": [],
   "source": [
    "#comando auxiliar para criar a funçao\n",
    "print(base_airbnb['host_listings_count'].value_counts())"
   ]
  },
  {
   "cell_type": "code",
   "execution_count": null,
   "metadata": {},
   "outputs": [],
   "source": [
    "diagrama_caixa(base_airbnb['host_listings_count'])\n",
    "grafico_barra(base_airbnb['host_listings_count'])"
   ]
  },
  {
   "cell_type": "markdown",
   "metadata": {},
   "source": [
    "Podemos excluir outliers, porque para o objetivo do nosso projeto host com mais de 6 imóveis no airbnb, não é o público alvo do objetivo do porjeto. (imagino que sejam imobiliárias ou profissionais que gerenciam imóveis do airbnb) "
   ]
  },
  {
   "cell_type": "code",
   "execution_count": null,
   "metadata": {},
   "outputs": [],
   "source": [
    "base_airbnb, linhas_removidas = excluir_outliers(base_airbnb, 'host_listings_count')\n",
    "print(f'{linhas_removidas} linhas removidas')"
   ]
  },
  {
   "cell_type": "markdown",
   "metadata": {},
   "source": [
    "### accommodates"
   ]
  },
  {
   "cell_type": "code",
   "execution_count": null,
   "metadata": {},
   "outputs": [],
   "source": [
    "diagrama_caixa(base_airbnb['accommodates'])\n",
    "grafico_barra(base_airbnb['accommodates'])"
   ]
  },
  {
   "cell_type": "code",
   "execution_count": null,
   "metadata": {},
   "outputs": [],
   "source": [
    "base_airbnb, linhas_removidas = excluir_outliers(base_airbnb, 'accommodates')\n",
    "print(f'{linhas_removidas} linhas removidas')"
   ]
  },
  {
   "cell_type": "markdown",
   "metadata": {},
   "source": [
    "Vamos excluir as outliers, pois residências que ultrapassam 10 acomodações saem do padrão que estamos analisando, e são poucas as incidencias que serão afetadas."
   ]
  },
  {
   "cell_type": "markdown",
   "metadata": {},
   "source": [
    "### bathrooms"
   ]
  },
  {
   "cell_type": "code",
   "execution_count": null,
   "metadata": {},
   "outputs": [],
   "source": [
    "diagrama_caixa(base_airbnb['bathrooms'])\n",
    "grafico_barra(base_airbnb['bathrooms'])\n",
    "#como o limite no grafico de barra esta diferente do limite e foi visto que os limites estao corretos, vamos\n",
    "#plotar manualmente esse grafico, arrumando-o para analisá-lo"
   ]
  },
  {
   "cell_type": "code",
   "execution_count": null,
   "metadata": {},
   "outputs": [],
   "source": [
    "plt.figure(figsize=(19,5))\n",
    "sns.barplot(x=base_airbnb['bathrooms'].value_counts().index , y= base_airbnb['bathrooms'].value_counts())"
   ]
  },
  {
   "cell_type": "code",
   "execution_count": null,
   "metadata": {},
   "outputs": [],
   "source": [
    "base_airbnb, linhas_removidas = excluir_outliers(base_airbnb, 'bathrooms')\n",
    "print(f'{linhas_removidas} linhas removidas')"
   ]
  },
  {
   "cell_type": "markdown",
   "metadata": {},
   "source": [
    "### bedrooms"
   ]
  },
  {
   "cell_type": "code",
   "execution_count": null,
   "metadata": {},
   "outputs": [],
   "source": [
    "diagrama_caixa(base_airbnb['bedrooms'])\n",
    "grafico_barra(base_airbnb['bedrooms'])"
   ]
  },
  {
   "cell_type": "code",
   "execution_count": null,
   "metadata": {},
   "outputs": [],
   "source": [
    "base_airbnb, linhas_removidas = excluir_outliers(base_airbnb, 'bedrooms')\n",
    "print(f'{linhas_removidas} linhas removidas')"
   ]
  },
  {
   "cell_type": "markdown",
   "metadata": {},
   "source": [
    "### beds"
   ]
  },
  {
   "cell_type": "code",
   "execution_count": null,
   "metadata": {},
   "outputs": [],
   "source": [
    "diagrama_caixa(base_airbnb['beds'])\n",
    "grafico_barra(base_airbnb['beds'])"
   ]
  },
  {
   "cell_type": "code",
   "execution_count": null,
   "metadata": {},
   "outputs": [],
   "source": [
    "base_airbnb, linhas_removidas = excluir_outliers(base_airbnb, 'beds')\n",
    "print(f'{linhas_removidas} linhas removidas')"
   ]
  },
  {
   "cell_type": "markdown",
   "metadata": {},
   "source": [
    "### guests_included"
   ]
  },
  {
   "cell_type": "code",
   "execution_count": null,
   "metadata": {},
   "outputs": [],
   "source": [
    "diagrama_caixa(base_airbnb['guests_included'])\n",
    "grafico_barra(base_airbnb['guests_included'])\n",
    "print(limites(base_airbnb['guests_included']))"
   ]
  },
  {
   "cell_type": "code",
   "execution_count": null,
   "metadata": {},
   "outputs": [],
   "source": [
    "plt.figure(figsize=(19,5))\n",
    "sns.barplot(x=base_airbnb['guests_included'].value_counts().index , y= base_airbnb['guests_included'].value_counts())"
   ]
  },
  {
   "cell_type": "markdown",
   "metadata": {},
   "source": [
    "Me parece um erro de preenchimento do cadastro onde os usuários usam o valor padrão \"1\" para preencher esse campo no cadastro. Não aparentando ser uma boa metrica. Portanto vamos remover essa característica completamente de nossa análise pois o nosso modelo pode considerar erroneamente que é essencial para a definição do preço, sendo que provavelmente não seja."
   ]
  },
  {
   "cell_type": "code",
   "execution_count": null,
   "metadata": {},
   "outputs": [],
   "source": [
    "base_airbnb = base_airbnb.drop('guests_included', axis=1)\n",
    "base_airbnb.shape"
   ]
  },
  {
   "cell_type": "markdown",
   "metadata": {},
   "source": [
    "### minimum_nights"
   ]
  },
  {
   "cell_type": "code",
   "execution_count": null,
   "metadata": {},
   "outputs": [],
   "source": [
    "diagrama_caixa(base_airbnb['minimum_nights'])\n",
    "grafico_barra(base_airbnb['minimum_nights'])"
   ]
  },
  {
   "cell_type": "code",
   "execution_count": null,
   "metadata": {},
   "outputs": [],
   "source": [
    "base_airbnb, linhas_removidas = excluir_outliers(base_airbnb, 'minimum_nights')\n",
    "print(f'{linhas_removidas} linhas removidas')"
   ]
  },
  {
   "cell_type": "markdown",
   "metadata": {},
   "source": [
    "Removendo os imóveis que precisam de mais de 8 dias minimos de aluguel, pois não faz nem sentido, analisar imoveis com tais exigencias."
   ]
  },
  {
   "cell_type": "markdown",
   "metadata": {},
   "source": [
    "### maximum_nights "
   ]
  },
  {
   "cell_type": "code",
   "execution_count": null,
   "metadata": {},
   "outputs": [],
   "source": [
    "diagrama_caixa(base_airbnb['maximum_nights'])\n",
    "grafico_barra(base_airbnb['maximum_nights'])"
   ]
  },
  {
   "cell_type": "code",
   "execution_count": null,
   "metadata": {},
   "outputs": [],
   "source": [
    "plt.figure(figsize=(19,5))\n",
    "sns.barplot(x=base_airbnb['maximum_nights'].value_counts().index , y= base_airbnb['maximum_nights'].value_counts())"
   ]
  },
  {
   "cell_type": "markdown",
   "metadata": {},
   "source": [
    "Vamos remover totalmente essa metrica da análise pois me parece o mesmo caso de mal preenchimento do cadastro, que não vai impactar corretamente no calculo do preço."
   ]
  },
  {
   "cell_type": "code",
   "execution_count": null,
   "metadata": {},
   "outputs": [],
   "source": [
    "base_airbnb = base_airbnb.drop('maximum_nights', axis=1)\n",
    "base_airbnb.shape"
   ]
  },
  {
   "cell_type": "markdown",
   "metadata": {},
   "source": [
    "### number_of_reviews        "
   ]
  },
  {
   "cell_type": "code",
   "execution_count": null,
   "metadata": {},
   "outputs": [],
   "source": [
    "diagrama_caixa(base_airbnb['number_of_reviews'])\n",
    "grafico_barra(base_airbnb['number_of_reviews'])"
   ]
  },
  {
   "cell_type": "markdown",
   "metadata": {},
   "source": [
    "Vamos remover todos os números de reviews da análise, pois quem for colocar um novo imóvel para alugar na Airbnb vai ter o número de reviews igual a zero, então não tem como usar essa característica para prever o preço."
   ]
  },
  {
   "cell_type": "code",
   "execution_count": null,
   "metadata": {},
   "outputs": [],
   "source": [
    "base_airbnb = base_airbnb.drop('number_of_reviews', axis=1)\n",
    "base_airbnb.shape"
   ]
  },
  {
   "cell_type": "markdown",
   "metadata": {},
   "source": [
    "# Tratamento de colunas de valores com características em textos"
   ]
  },
  {
   "cell_type": "code",
   "execution_count": null,
   "metadata": {},
   "outputs": [],
   "source": [
    "print(base_airbnb.dtypes)"
   ]
  },
  {
   "cell_type": "markdown",
   "metadata": {},
   "source": [
    "## São:\n",
    "\n",
    "- property_type                \n",
    "- room_type                    \n",
    "- bed_type                     \n",
    "- amenities                   \n",
    "- cancellation_policy         "
   ]
  },
  {
   "cell_type": "markdown",
   "metadata": {},
   "source": [
    "### property_type \n"
   ]
  },
  {
   "cell_type": "code",
   "execution_count": null,
   "metadata": {},
   "outputs": [],
   "source": [
    "display (base_airbnb['property_type'].value_counts())\n",
    "\n",
    "plt.figure(figsize=(19,5))\n",
    "grafico = sns.countplot ('property_type',data=base_airbnb)\n",
    "grafico.tick_params (axis='x', rotation=90)"
   ]
  },
  {
   "cell_type": "markdown",
   "metadata": {},
   "source": [
    "como todos os tipos abaixo de \"Others\" tem quantidades praticamente insignificantes, analisálos como categorias separadas vão acabar tornando seus dados irrelevantes para efeitos comparativos, portanto vamos agrupar esses dados todos como categoria outros, para simplificar o processo de análise e comparação."
   ]
  },
  {
   "cell_type": "code",
   "execution_count": null,
   "metadata": {},
   "outputs": [],
   "source": [
    "tabela_tipos_casa = base_airbnb['property_type'].value_counts()\n",
    "colunas_agrupar= []\n",
    "for tipo in tabela_tipos_casa.index:\n",
    "    if tabela_tipos_casa[tipo]<2000:\n",
    "        colunas_agrupar.append(tipo)\n",
    "print(colunas_agrupar)    "
   ]
  },
  {
   "cell_type": "code",
   "execution_count": null,
   "metadata": {},
   "outputs": [],
   "source": [
    "for tipo in colunas_agrupar:\n",
    "    base_airbnb.loc[base_airbnb['property_type']==tipo,'property_type']= 'Outros'\n",
    "display (base_airbnb['property_type'].value_counts())\n",
    "plt.figure(figsize=(19,5))\n",
    "grafico = sns.countplot ('property_type',data=base_airbnb)\n",
    "grafico.tick_params (axis='x', rotation=90)"
   ]
  },
  {
   "cell_type": "markdown",
   "metadata": {},
   "source": [
    "### room_type"
   ]
  },
  {
   "cell_type": "code",
   "execution_count": null,
   "metadata": {},
   "outputs": [],
   "source": [
    "display (base_airbnb['room_type'].value_counts())\n",
    "\n",
    "plt.figure(figsize=(19,5))\n",
    "grafico = sns.countplot ('room_type',data=base_airbnb)\n",
    "grafico.tick_params (axis='x', rotation=90)"
   ]
  },
  {
   "cell_type": "markdown",
   "metadata": {},
   "source": [
    "Poucas categorias, não faremos alteração aqui."
   ]
  },
  {
   "cell_type": "markdown",
   "metadata": {},
   "source": [
    "### bed_type "
   ]
  },
  {
   "cell_type": "code",
   "execution_count": null,
   "metadata": {},
   "outputs": [],
   "source": [
    "display (base_airbnb['bed_type'].value_counts())\n",
    "\n",
    "plt.figure(figsize=(19,5))\n",
    "grafico = sns.countplot ('bed_type',data=base_airbnb)\n",
    "grafico.tick_params (axis='x', rotation=90)"
   ]
  },
  {
   "cell_type": "code",
   "execution_count": null,
   "metadata": {},
   "outputs": [],
   "source": [
    "tabela_bed = base_airbnb['bed_type'].value_counts()\n",
    "colunas_agrupar= []\n",
    "for tipo in tabela_bed.index:\n",
    "    if tabela_bed[tipo]<10000:\n",
    "        colunas_agrupar.append(tipo)\n",
    "    \n",
    "for tipo in colunas_agrupar:\n",
    "    base_airbnb.loc[base_airbnb['bed_type']==tipo,'bed_type']= 'Outros'\n",
    "display (base_airbnb['bed_type'].value_counts())\n",
    "plt.figure(figsize=(19,5))\n",
    "grafico = sns.countplot ('bed_type',data=base_airbnb)\n",
    "grafico.tick_params (axis='x', rotation=90)"
   ]
  },
  {
   "cell_type": "markdown",
   "metadata": {},
   "source": [
    "Poucas categorias, porém somente um valor tem grande quantidades enquanto o resto tem pouco e valores bem próximo, então nesse caso teríamos duas opções:\n",
    "   - Deixar como está.\n",
    "   - Agrupar todos os parametros de baixo valor em uma única categoria ficando com apenas duas categorias. (É o que decidimos fazer)"
   ]
  },
  {
   "cell_type": "markdown",
   "metadata": {},
   "source": [
    "### cancellation_policy "
   ]
  },
  {
   "cell_type": "code",
   "execution_count": null,
   "metadata": {},
   "outputs": [],
   "source": [
    "display (base_airbnb['cancellation_policy'].value_counts())\n",
    "\n",
    "plt.figure(figsize=(19,5))\n",
    "grafico = sns.countplot ('cancellation_policy',data=base_airbnb)\n",
    "grafico.tick_params (axis='x', rotation=90)"
   ]
  },
  {
   "cell_type": "code",
   "execution_count": null,
   "metadata": {},
   "outputs": [],
   "source": [
    "tabela_cancellation = base_airbnb['cancellation_policy'].value_counts()\n",
    "colunas_agrupar= []\n",
    "for tipo in tabela_cancellation.index:\n",
    "    if tabela_cancellation[tipo]<10000:\n",
    "        colunas_agrupar.append(tipo)\n",
    "    \n",
    "for tipo in colunas_agrupar:\n",
    "    base_airbnb.loc[base_airbnb['cancellation_policy']==tipo,'cancellation_policy']= 'strict'\n",
    "display (base_airbnb['cancellation_policy'].value_counts())\n",
    "plt.figure(figsize=(19,5))\n",
    "grafico = sns.countplot ('cancellation_policy',data=base_airbnb)\n",
    "grafico.tick_params (axis='x', rotation=90)"
   ]
  },
  {
   "cell_type": "markdown",
   "metadata": {},
   "source": [
    "Agrupamos as categorias stricts, pois os valores de super_istrict_30 e super_strict_60 são infimos para ajudar na análise."
   ]
  },
  {
   "cell_type": "markdown",
   "metadata": {},
   "source": [
    "### amenities                   \n",
    "   "
   ]
  },
  {
   "cell_type": "code",
   "execution_count": null,
   "metadata": {},
   "outputs": [],
   "source": [
    "print (base_airbnb['amenities'].iloc[0])\n",
    "\n"
   ]
  },
  {
   "cell_type": "markdown",
   "metadata": {},
   "source": [
    "# Encoding"
   ]
  },
  {
   "cell_type": "code",
   "execution_count": null,
   "metadata": {},
   "outputs": [],
   "source": []
  },
  {
   "cell_type": "markdown",
   "metadata": {},
   "source": [
    "### Modelo de Previsão"
   ]
  },
  {
   "cell_type": "code",
   "execution_count": null,
   "metadata": {},
   "outputs": [],
   "source": []
  },
  {
   "cell_type": "markdown",
   "metadata": {},
   "source": [
    "### Análise do Melhor Modelo"
   ]
  },
  {
   "cell_type": "code",
   "execution_count": null,
   "metadata": {},
   "outputs": [],
   "source": []
  },
  {
   "cell_type": "markdown",
   "metadata": {},
   "source": [
    "### Ajustes e Melhorias no Melhor Modelo"
   ]
  },
  {
   "cell_type": "code",
   "execution_count": null,
   "metadata": {},
   "outputs": [],
   "source": []
  }
 ],
 "metadata": {
  "kernelspec": {
   "display_name": "Python 3",
   "language": "python",
   "name": "python3"
  },
  "language_info": {
   "codemirror_mode": {
    "name": "ipython",
    "version": 3
   },
   "file_extension": ".py",
   "mimetype": "text/x-python",
   "name": "python",
   "nbconvert_exporter": "python",
   "pygments_lexer": "ipython3",
   "version": "3.8.8"
  }
 },
 "nbformat": 4,
 "nbformat_minor": 4
}

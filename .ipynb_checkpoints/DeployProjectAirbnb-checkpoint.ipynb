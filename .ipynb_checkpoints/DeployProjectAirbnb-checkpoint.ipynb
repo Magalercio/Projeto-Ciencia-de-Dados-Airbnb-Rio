{
 "cells": [
  {
   "cell_type": "code",
   "execution_count": 31,
   "id": "b9cc69f5",
   "metadata": {},
   "outputs": [],
   "source": [
    "import pandas as pd\n",
    "import streamlit as st\n",
    "import joblib"
   ]
  },
  {
   "cell_type": "markdown",
   "id": "0fb149b9",
   "metadata": {},
   "source": [
    "'host_is_superhost', 'host_listings_count', 'host_has_profile_pic',\n",
    "       'host_identity_verified', 'latitude', 'longitude', 'accommodates',\n",
    "       'bathrooms', 'bedrooms', 'beds', 'extra_people',\n",
    "       'minimum_nights', 'instant_bookable', 'mes', 'ano', 'n_amenities',\n",
    "       'property_type_Apartment', 'property_type_Bed and breakfast',\n",
    "       'property_type_Condominium', 'property_type_Guest suite',\n",
    "       'property_type_Guesthouse', 'property_type_Hostel',\n",
    "       'property_type_House', 'property_type_Loft', 'property_type_Outros',\n",
    "       'property_type_Serviced apartment', 'room_type_Entire home/apt',\n",
    "       'room_type_Hotel room', 'room_type_Private room',\n",
    "       'room_type_Shared room', 'cancellation_policy_flexible',\n",
    "       'cancellation_policy_moderate', 'cancellation_policy_strict',\n",
    "       'cancellation_policy_strict_14_with_grace_period'"
   ]
  },
  {
   "cell_type": "code",
   "execution_count": 32,
   "id": "9e310dab",
   "metadata": {},
   "outputs": [
    {
     "name": "stdout",
     "output_type": "stream",
     "text": [
      "{'property_type_Apartment': 0, 'property_type_Bed and breakfast': 0, 'property_type_Condominium': 0, 'property_type_Guest suite': 0, 'property_type_Guesthouse': 0, 'property_type_Hostel': 0, 'property_type_House': 0, 'property_type_Loft': 0, 'property_type_Serviced apartment': 0, 'property_type_Outros': 0, 'room_type_Hotel room': 0, 'room_type_Shared room': 0, 'room_type_Private room': 0, 'room_type_Entire home/apt': 0, 'cancellation_policy_flexible': 0, 'cancellation_policy_moderate': 0, 'cancellation_policy_strict': 0, 'cancellation_policy_strict_14_with_grace_period': 0}\n"
     ]
    }
   ],
   "source": [
    "#separando as categorias em tipos\n",
    "x_numericos = {'latitude':0, 'longitude':0,'host_listings_count':0,'accommodates':0,'bathrooms':0, 'bedrooms':0, 'beds':0, 'extra_people':0,'minimum_nights':0,'mes':0, 'ano':0, 'n_amenities':0}\n",
    "x_true_false = {'host_is_superhost':0,'host_has_profile_pic':0,'host_identity_verified':0,'instant_bookable':0}\n",
    "x_listas= {'property_type':['Apartment', 'Bed and breakfast', 'Condominium','Guest suite','Guesthouse','Hostel','House', 'Loft','Serviced apartment', 'Outros'],\n",
    "          'room_type': ['Hotel room','Shared room','Private room', 'Entire home/apt'],'cancellation_policy': ['flexible','moderate','strict', 'strict_14_with_grace_period'] }\n",
    "dic_dummies={}\n",
    "for item in x_listas:\n",
    "    for valor in x_listas[item]:\n",
    "        dic_dummies[f'{item}_{valor}']=0\n",
    "        \n",
    "print(dic_dummies)"
   ]
  },
  {
   "cell_type": "code",
   "execution_count": 33,
   "id": "f4a37b88",
   "metadata": {},
   "outputs": [],
   "source": [
    "#criando os botoes de preenchimento\n",
    "\n",
    "for item in x_numericos:\n",
    "    if item == 'latitude' or item == 'longitude':\n",
    "        valor= st.number_input(f'{item}', step= 0.00001 , value=0.0, format= \"%.5f\")\n",
    "        \n",
    "    elif item == 'extra_people':\n",
    "        valor= st.number_input(f'{item}', step= 0.01 , value=0.0)\n",
    "        \n",
    "    else:    \n",
    "        valor= st.number_input(f'{item}', step=1 , value=0)\n",
    "    \n",
    "    x_numericos[item] = valor\n",
    "\n",
    "for item in x_true_false:\n",
    "    valor= st.selectbox(f'{item}',('Sim','Não'))\n",
    "    \n",
    "    if valor == \"Sim\":\n",
    "        x_true_false[item]=1\n",
    "    else:\n",
    "        x_true_false[item]=0\n",
    "        \n",
    "for item in x_listas:\n",
    "    valor= st.selectbox(f'{item}', x_listas[item])\n",
    "    dic_dummies[f'{item}_{valor}']=1\n",
    "    \n",
    "    \n",
    "botao = st.button ('Prever valor do imóvel')\n",
    "#fazendo o botão funcionar.\n",
    "if botao:\n",
    "    dic_dummies.update(x_numericos)\n",
    "    dic_dummies.update(x_true_false)\n",
    "    valores_x = pd.DataFrame(dic_dummies, index=[0])\n",
    "    modelo = joblib.load('modelo.joblib')\n",
    "    preco = modelo.predict (valores_x)\n",
    "    st.write(preco[0])\n"
   ]
  },
  {
   "cell_type": "code",
   "execution_count": 39,
   "id": "8523dc25",
   "metadata": {},
   "outputs": [
    {
     "name": "stdout",
     "output_type": "stream",
     "text": [
      "{'property_type_Apartment': 1, 'property_type_Bed and breakfast': 0, 'property_type_Condominium': 0, 'property_type_Guest suite': 0, 'property_type_Guesthouse': 0, 'property_type_Hostel': 0, 'property_type_House': 0, 'property_type_Loft': 0, 'property_type_Serviced apartment': 0, 'property_type_Outros': 0, 'room_type_Hotel room': 1, 'room_type_Shared room': 0, 'room_type_Private room': 0, 'room_type_Entire home/apt': 0, 'cancellation_policy_flexible': 1, 'cancellation_policy_moderate': 0, 'cancellation_policy_strict': 0, 'cancellation_policy_strict_14_with_grace_period': 0}\n"
     ]
    }
   ],
   "source": [
    "print(dic_dummies)"
   ]
  },
  {
   "cell_type": "code",
   "execution_count": null,
   "id": "8df72cfc",
   "metadata": {},
   "outputs": [],
   "source": []
  }
 ],
 "metadata": {
  "kernelspec": {
   "display_name": "Python 3",
   "language": "python",
   "name": "python3"
  },
  "language_info": {
   "codemirror_mode": {
    "name": "ipython",
    "version": 3
   },
   "file_extension": ".py",
   "mimetype": "text/x-python",
   "name": "python",
   "nbconvert_exporter": "python",
   "pygments_lexer": "ipython3",
   "version": "3.8.8"
  }
 },
 "nbformat": 4,
 "nbformat_minor": 5
}
